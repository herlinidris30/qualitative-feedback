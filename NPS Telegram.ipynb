{
 "cells": [
  {
   "cell_type": "code",
   "execution_count": 1,
   "metadata": {},
   "outputs": [
    {
     "name": "stdout",
     "output_type": "stream",
     "text": [
      "Category      Batch  Detractor  Promoter  Total  Penyebaran Informasi_NPS  \\\n",
      "0        2023-08-01         21       124    145                  0.710345   \n",
      "1        2023-09-01         15        95    110                  0.727273   \n",
      "2        2023-10-01         11       135    146                  0.849315   \n",
      "3        2023-11-01         32       180    212                  0.698113   \n",
      "4        2023-12-01         33       204    237                  0.721519   \n",
      "5        2024-01-01          9        86     95                  0.810526   \n",
      "\n",
      "Category  Tanggapan dan Response_NPS  Kepuasan Informasi dan Komunikasi_NPS  \\\n",
      "0                           0.765517                               0.710345   \n",
      "1                           0.800000                               0.654545   \n",
      "2                           0.835616                               0.835616   \n",
      "3                           0.811321                               0.773585   \n",
      "4                           0.755274                               0.772152   \n",
      "5                           0.810526                               0.852632   \n",
      "\n",
      "Category  Average_NPS  \n",
      "0            0.728736  \n",
      "1            0.727273  \n",
      "2            0.840183  \n",
      "3            0.761006  \n",
      "4            0.749648  \n",
      "5            0.824561  \n"
     ]
    }
   ],
   "source": [
    "import pandas as pd\n",
    "import numpy as np\n",
    "\n",
    "# Read Excel file\n",
    "file_path = 'NPS_Telegram.xlsx'\n",
    "sheet_name = 'pre-processed'\n",
    "df = pd.read_excel(file_path, sheet_name=sheet_name)\n",
    "\n",
    "# Define categories\n",
    "categories = ['Penyebaran Informasi', 'Tanggapan dan Response', 'Kepuasan Informasi dan Komunikasi']\n",
    "\n",
    "# Create a dictionary to store results\n",
    "nps_results = {}\n",
    "\n",
    "# Calculate NPS for each category\n",
    "for category in categories:\n",
    "    # Classify responses\n",
    "    df['Category'] = np.where(df[category] < 5, 'Detractor', np.where(df[category] >= 5, 'Promoter', 'Passive'))\n",
    "\n",
    "    # Calculate NPS\n",
    "    nps_df = df.groupby(['Batch', 'Category']).size().unstack(fill_value=0)\n",
    "    nps_df['Total'] = nps_df.sum(axis=1)\n",
    "    nps_df[f'NPS_{category}'] = (nps_df['Promoter'] / nps_df['Total']) - (nps_df['Detractor'] / nps_df['Total'])\n",
    "\n",
    "    # Store results\n",
    "    nps_results[category] = nps_df\n",
    "\n",
    "# Create a new DataFrame for the results\n",
    "nps_summary_df = pd.DataFrame()\n",
    "\n",
    "# Update the new sheet with NPS results for each category\n",
    "for category, result_df in nps_results.items():\n",
    "    result_df.reset_index(inplace=True)\n",
    "    result_df = result_df.rename(columns={f'NPS_{category}': f'{category}_NPS'})  # Rename NPS column for clarity\n",
    "    if nps_summary_df.empty:\n",
    "        nps_summary_df = result_df\n",
    "    else:\n",
    "        nps_summary_df = pd.merge(nps_summary_df, result_df[['Batch', f'{category}_NPS']], on='Batch', how='outer')\n",
    "\n",
    "# Calculate the average NPS score\n",
    "nps_columns = [f'{category}_NPS' for category in categories]\n",
    "nps_summary_df['Average_NPS'] = nps_summary_df[nps_columns].mean(axis=1)\n",
    "\n",
    "# Display the results\n",
    "print(nps_summary_df)\n"
   ]
  },
  {
   "cell_type": "code",
   "execution_count": 2,
   "metadata": {},
   "outputs": [
    {
     "name": "stdout",
     "output_type": "stream",
     "text": [
      "Index(['Batch', 'Penyebaran Informasi', 'Tanggapan dan Response',\n",
      "       'Kepuasan Informasi dan Komunikasi', 'Penyebaran Informasi.1',\n",
      "       'Tanggapan dan Response.1', 'Kepuasan Informasi dan Komunikasi.1',\n",
      "       'Category'],\n",
      "      dtype='object')\n"
     ]
    }
   ],
   "source": [
    "print(df.columns)"
   ]
  },
  {
   "cell_type": "code",
   "execution_count": null,
   "metadata": {},
   "outputs": [],
   "source": []
  }
 ],
 "metadata": {
  "kernelspec": {
   "display_name": "Python 3",
   "language": "python",
   "name": "python3"
  },
  "language_info": {
   "codemirror_mode": {
    "name": "ipython",
    "version": 3
   },
   "file_extension": ".py",
   "mimetype": "text/x-python",
   "name": "python",
   "nbconvert_exporter": "python",
   "pygments_lexer": "ipython3",
   "version": "3.7.6"
  }
 },
 "nbformat": 4,
 "nbformat_minor": 4
}
