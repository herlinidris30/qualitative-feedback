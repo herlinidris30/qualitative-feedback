{
 "cells": [
  {
   "cell_type": "code",
   "execution_count": 1,
   "metadata": {},
   "outputs": [
    {
     "name": "stdout",
     "output_type": "stream",
     "text": [
      "Category      Batch  Detractor  Promoter  Total  Kejelasan Informasi_NPS  \\\n",
      "0        2024-02-01         42       568    610                 0.862295   \n",
      "\n",
      "Category  Bimbingan dan Arahan_NPS  Responsif dalam Menjawab Pertanyaan_NPS  \\\n",
      "0                          0.84918                                 0.822951   \n",
      "\n",
      "Category  Efektifitas Waktu_NPS  Kepuasan Student_NPS  Average_NPS  \n",
      "0                      0.760656              0.796721     0.818361  \n"
     ]
    }
   ],
   "source": [
    "import pandas as pd\n",
    "import numpy as np\n",
    "\n",
    "# Read Excel file\n",
    "file_path = 'NPS_onboarding.xlsx'\n",
    "sheet_name = 'pre-processed'\n",
    "df = pd.read_excel(file_path, sheet_name=sheet_name)\n",
    "\n",
    "# Define categories\n",
    "categories = ['Kejelasan Informasi', 'Bimbingan dan Arahan', 'Responsif dalam Menjawab Pertanyaan', 'Efektifitas Waktu','Kepuasan Student']\n",
    "\n",
    "# Create a dictionary to store results\n",
    "nps_results = {}\n",
    "\n",
    "# Calculate NPS for each category\n",
    "for category in categories:\n",
    "    # Classify responses\n",
    "    df['Category'] = np.where(df[category] < 5, 'Detractor', np.where(df[category] >= 5, 'Promoter', 'Passive'))\n",
    "\n",
    "    # Calculate NPS\n",
    "    nps_df = df.groupby(['Batch', 'Category']).size().unstack(fill_value=0)\n",
    "    nps_df['Total'] = nps_df.sum(axis=1)\n",
    "    nps_df[f'NPS_{category}'] = (nps_df['Promoter'] / nps_df['Total']) - (nps_df['Detractor'] / nps_df['Total'])\n",
    "\n",
    "    # Store results\n",
    "    nps_results[category] = nps_df\n",
    "\n",
    "# Create a new DataFrame for the results\n",
    "nps_summary_df = pd.DataFrame()\n",
    "\n",
    "# Update the new sheet with NPS results for each category\n",
    "for category, result_df in nps_results.items():\n",
    "    result_df.reset_index(inplace=True)\n",
    "    result_df = result_df.rename(columns={f'NPS_{category}': f'{category}_NPS'})  # Rename NPS column for clarity\n",
    "    if nps_summary_df.empty:\n",
    "        nps_summary_df = result_df\n",
    "    else:\n",
    "        nps_summary_df = pd.merge(nps_summary_df, result_df[['Batch', f'{category}_NPS']], on='Batch', how='outer')\n",
    "\n",
    "# Calculate the average NPS score\n",
    "nps_columns = [f'{category}_NPS' for category in categories]\n",
    "nps_summary_df['Average_NPS'] = nps_summary_df[nps_columns].mean(axis=1)\n",
    "\n",
    "# Display the results\n",
    "print(nps_summary_df)\n"
   ]
  },
  {
   "cell_type": "code",
   "execution_count": null,
   "metadata": {},
   "outputs": [],
   "source": []
  }
 ],
 "metadata": {
  "kernelspec": {
   "display_name": "Python 3",
   "language": "python",
   "name": "python3"
  },
  "language_info": {
   "codemirror_mode": {
    "name": "ipython",
    "version": 3
   },
   "file_extension": ".py",
   "mimetype": "text/x-python",
   "name": "python",
   "nbconvert_exporter": "python",
   "pygments_lexer": "ipython3",
   "version": "3.7.6"
  }
 },
 "nbformat": 4,
 "nbformat_minor": 4
}
